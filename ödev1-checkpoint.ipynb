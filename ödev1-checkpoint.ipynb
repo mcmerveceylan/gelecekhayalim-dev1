{
 "cells": [
  {
   "cell_type": "code",
   "execution_count": 1,
   "metadata": {},
   "outputs": [
    {
     "name": "stdout",
     "output_type": "stream",
     "text": [
      "42\n",
      "42.0\n",
      "True\n"
     ]
    }
   ],
   "source": [
    "# String'i integer'a dönüştürme\n",
    "sayi_str = \"42\"\n",
    "sayi_int = int(sayi_str)\n",
    "print(sayi_int)\n",
    "\n",
    "# Integer'ı float'a dönüştürme\n",
    "sayi_float = float(sayi_int)\n",
    "print(sayi_float)\n",
    "\n",
    "# Boolean'ı string'e dönüştürme\n",
    "durum = True\n",
    "durum_str = str(durum)\n",
    "print(durum_str)\n"
   ]
  },
  {
   "cell_type": "code",
   "execution_count": 2,
   "metadata": {},
   "outputs": [
    {
     "name": "stdout",
     "output_type": "stream",
     "text": [
      "False\n",
      "True\n",
      "False\n",
      "False\n",
      "True\n",
      "True\n",
      "False\n",
      "True\n",
      "False\n",
      "False\n",
      "True\n",
      "True\n",
      "False\n",
      "True\n",
      "True\n",
      "True\n",
      "False\n",
      "False\n",
      "10\n",
      "5\n",
      "False\n"
     ]
    }
   ],
   "source": [
    "Merve = 5\n",
    "Tugce = 10\n",
    "Cansu = 15\n",
    "\n",
    "print(Merve == Tugce)  # Eşit mi?\n",
    "print(Merve != Tugce)  # Eşit değil mi?\n",
    "print(Merve > Tugce)  # Büyük mü?\n",
    "print(Merve >= Tugce)  # Büyük eşit mi?\n",
    "print(Merve < Tugce)  # Küçük mü?\n",
    "print(Merve <= Tugce)  # Küçük eşit mi?\n",
    "\n",
    "print(Merve == Cansu)  # Eşit mi?\n",
    "print(Merve != Cansu)  # Eşit değil mi?\n",
    "print(Merve > Cansu)  # Büyük mü?\n",
    "print(Merve >= Cansu)  # Büyük eşit mi?\n",
    "print(Merve < Cansu)  # Küçük mü?\n",
    "print(Merve<= Cansu)  # Küçük eşit mi?\n",
    "\n",
    "print(Cansu == Tugce)  # Eşit mi?\n",
    "print(Cansu != Tugce)  # Eşit değil mi?\n",
    "print(Cansu > Tugce)  # Büyük mü?\n",
    "print(Cansu >= Tugce)  # Büyük eşit mi?\n",
    "print(Cansu < Tugce)  # Küçük mü?\n",
    "print(Cansu <= Tugce)  # Küçük eşit mi?\n",
    "\n",
    "print(Merve and Tugce)\n",
    "print(Merve or Tugce)\n",
    "print(not Merve )\n"
   ]
  },
  {
   "cell_type": "code",
   "execution_count": 6,
   "metadata": {},
   "outputs": [
    {
     "name": "stdout",
     "output_type": "stream",
     "text": [
      "lütfen bir sayı1 giriniz:20\n",
      "lütfen bir sayi2 giriniz:2\n",
      "Toplam: 22\n",
      "Fark: 18\n",
      "Carpma: 40\n",
      "Bölme: 10.0\n"
     ]
    }
   ],
   "source": [
    "sayi1 = int(input(\"lütfen bir sayı1 giriniz:\")) \n",
    "sayi2 = int(input(\"lütfen bir sayi2 giriniz:\")) \n",
    "toplam = sayi1 + sayi2\n",
    "fark = sayi1 - sayi2 \n",
    "carpma = sayi1 * sayi2\n",
    "bölme = sayi1 / sayi2\n",
    "print(\"Toplam:\", toplam )\n",
    "print(\"Fark:\", fark )\n",
    "print(\"Carpma:\", carpma)\n",
    "print(\"Bölme:\", bölme )\n"
   ]
  },
  {
   "cell_type": "code",
   "execution_count": 7,
   "metadata": {},
   "outputs": [
    {
     "name": "stdout",
     "output_type": "stream",
     "text": [
      "İsminizi girin: merve\n",
      "Yaşınızı girin: ceylan\n",
      "Şehir adınızı girin: 32\n",
      "Mesleğinizi girin: matematikçi\n",
      "\n",
      " Kullanıcı Bilgilerini İsteme \n",
      "İsim: merve\n",
      "Yaş: ceylan\n",
      "Şehir: 32\n",
      "Meslek: matematikçi\n"
     ]
    }
   ],
   "source": [
    "isim = input(\"İsminizi girin: \")\n",
    "yas = input(\"Yaşınızı girin: \")\n",
    "sehir = input(\"Şehir adınızı girin: \")\n",
    "meslek = input(\"Mesleğinizi girin: \")\n",
    "\n",
    "\n",
    "print(\"\\n Kullanıcı Bilgilerini İsteme \")\n",
    "print(\"İsim:\", isim)\n",
    "print(\"Yaş:\", yas)\n",
    "print(\"Şehir:\", sehir)\n",
    "print(\"Meslek:\", meslek)"
   ]
  },
  {
   "cell_type": "code",
   "execution_count": 8,
   "metadata": {},
   "outputs": [
    {
     "name": "stdout",
     "output_type": "stream",
     "text": [
      "Hi-Kod\n",
      "Veri\n",
      "Bilimi\n",
      "Atölyesi\n",
      "\n",
      "Büyük harfle: HI-KOD VERI BILIMI ATÖLYESI\n",
      "Küçük harfle: hi-kod veri bilimi atölyesi\n",
      "\n",
      "Çift sayılar: 02468\n",
      "Tek sayılar: 13579\n"
     ]
    }
   ],
   "source": [
    "# 1. \"Hi-Kod Veri Bilimi Atölyesi\" ifadesini bir değişkene tanımlama\n",
    "ifade = \"Hi-Kod Veri Bilimi Atölyesi\"\n",
    "\n",
    "# 2. İfadeyi kelimelere ayırma\n",
    "kelimeler = ifade.split()\n",
    "\n",
    "# 3. Her bir kelimeyi ayrı ayrı yazdırma\n",
    "for kelime in kelimeler:\n",
    "    print(kelime)\n",
    "\n",
    "# 4. İfadeyi hepsini büyük harfe çevirme\n",
    "buyuk_harf_ifade = ifade.upper()\n",
    "print(\"\\nBüyük harfle:\", buyuk_harf_ifade)\n",
    "\n",
    "# 5. İfadeyi hepsini küçük harfe çevirme\n",
    "kucuk_harf_ifade = ifade.lower()\n",
    "print(\"Küçük harfle:\", kucuk_harf_ifade)\n",
    "\n",
    "# 6. \"0123456789\" ifadesindeki yalnızca çift ve tek sayıları seçme\n",
    "sayi_ifadesi = \"0123456789\"\n",
    "\n",
    "# Çift sayılar\n",
    "cift_sayilar = ''.join([sayi for sayi in sayi_ifadesi if int(sayi) % 2 == 0])\n",
    "# Tek sayılar\n",
    "tek_sayilar = ''.join([sayi for sayi in sayi_ifadesi if int(sayi) % 2 != 0])\n",
    "\n",
    "print(\"\\nÇift sayılar:\", cift_sayilar)\n",
    "print(\"Tek sayılar:\", tek_sayilar)"
   ]
  },
  {
   "cell_type": "code",
   "execution_count": null,
   "metadata": {},
   "outputs": [],
   "source": []
  }
 ],
 "metadata": {
  "kernelspec": {
   "display_name": "Python 3",
   "language": "python",
   "name": "python3"
  },
  "language_info": {
   "codemirror_mode": {
    "name": "ipython",
    "version": 3
   },
   "file_extension": ".py",
   "mimetype": "text/x-python",
   "name": "python",
   "nbconvert_exporter": "python",
   "pygments_lexer": "ipython3",
   "version": "3.8.5"
  }
 },
 "nbformat": 4,
 "nbformat_minor": 4
}
